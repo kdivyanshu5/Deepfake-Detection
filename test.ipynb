{
 "cells": [
  {
   "cell_type": "code",
   "execution_count": 1,
   "id": "04adbafc",
   "metadata": {},
   "outputs": [
    {
     "name": "stderr",
     "output_type": "stream",
     "text": [
      "\n",
      "[notice] A new release of pip is available: 24.3.1 -> 25.1.1\n",
      "[notice] To update, run: python.exe -m pip install --upgrade pip\n"
     ]
    }
   ],
   "source": [
    "!pip install tensorflow librosa soundfile --quiet"
   ]
  },
  {
   "cell_type": "code",
   "execution_count": 1,
   "id": "44ba983b",
   "metadata": {},
   "outputs": [
    {
     "name": "stdout",
     "output_type": "stream",
     "text": [
      "Model: \"model\"\n",
      "_________________________________________________________________\n",
      " Layer (type)                Output Shape              Param #   \n",
      "=================================================================\n",
      " input_1 (InputLayer)        [(None, 128, 109, 1)]     0         \n",
      "                                                                 \n",
      " conv2d (Conv2D)             (None, 126, 107, 32)      320       \n",
      "                                                                 \n",
      " max_pooling2d (MaxPooling2D  (None, 63, 53, 32)       0         \n",
      " )                                                               \n",
      "                                                                 \n",
      " conv2d_1 (Conv2D)           (None, 61, 51, 64)        18496     \n",
      "                                                                 \n",
      " max_pooling2d_1 (MaxPooling  (None, 30, 25, 64)       0         \n",
      " 2D)                                                             \n",
      "                                                                 \n",
      " flatten (Flatten)           (None, 48000)             0         \n",
      "                                                                 \n",
      " dense (Dense)               (None, 128)               6144128   \n",
      "                                                                 \n",
      " dropout (Dropout)           (None, 128)               0         \n",
      "                                                                 \n",
      " dense_1 (Dense)             (None, 2)                 258       \n",
      "                                                                 \n",
      "=================================================================\n",
      "Total params: 6,163,202\n",
      "Trainable params: 6,163,202\n",
      "Non-trainable params: 0\n",
      "_________________________________________________________________\n"
     ]
    }
   ],
   "source": [
    "import tensorflow as tf\n",
    "model = tf.keras.models.load_model(\"C:/Users/awsmd/OneDrive/Documents/GitHub/Deepfake-Detection/deepfake_detection.h5\",compile=False)\n",
    "model.summary()"
   ]
  },
  {
   "cell_type": "code",
   "execution_count": 2,
   "id": "ad76eacc",
   "metadata": {},
   "outputs": [],
   "source": [
    "import librosa\n",
    "import numpy as np\n",
    "\n",
    "N_MELS      = 128         \n",
    "N_FRAMES    = 109        \n",
    "SAMPLE_RATE = 16000      \n",
    "DURATION    = N_FRAMES * 512 / SAMPLE_RATE   # 512 = hop_length default\n",
    "\n",
    "\n",
    "def preprocess_audio(path, sr=SAMPLE_RATE):\n",
    "    import librosa, numpy as np\n",
    "\n",
    "\n",
    "    y, _ = librosa.load(path, sr=sr)\n",
    "\n",
    "    target_len = int(DURATION * sr)\n",
    "    if len(y) < target_len:\n",
    "        y = np.pad(y, (0, target_len - len(y)))\n",
    "    else:\n",
    "        y = y[:target_len]\n",
    "\n",
    "    # mel‑spectrogram -> log‑power\n",
    "    mel = librosa.feature.melspectrogram(\n",
    "        y=y,\n",
    "        sr=sr,\n",
    "        n_mels=N_MELS,\n",
    "        hop_length=512,        # must equal training hop_length\n",
    "        n_fft=1024             # usually 2× hop_length but depends on training\n",
    "    )\n",
    "    mel_db = librosa.power_to_db(mel, ref=np.max)\n",
    "\n",
    "    mel_db = mel_db[:, :N_FRAMES]        # trim if 110\n",
    "    if mel_db.shape[1] < N_FRAMES:       # pad if 108\n",
    "        mel_db = np.pad(mel_db, ((0,0),(0, N_FRAMES-mel_db.shape[1])))\n",
    "\n",
    "    mel_db = mel_db[..., np.newaxis]         # (128,109,1)\n",
    "    return np.expand_dims(mel_db, 0)         # (1,128,109,1)\n",
    "\n",
    "\n",
    "CLASS_NAMES = ['bonafide', 'spoof']"
   ]
  },
  {
   "cell_type": "code",
   "execution_count": 3,
   "id": "c373ee7d",
   "metadata": {},
   "outputs": [
    {
     "name": "stdout",
     "output_type": "stream",
     "text": [
      "1/1 [==============================] - 5s 5s/step\n",
      "{'bonafide': 1.0, 'spoof': 2.282783519653603e-19}\n",
      "Predicted label: bonafide\n"
     ]
    }
   ],
   "source": [
    "test_path = 'C:/Users/awsmd/OneDrive/Documents/GitHub/Deepfake-Detection/AUDIO/REAL/biden-original.wav'\n",
    "x = preprocess_audio(test_path)\n",
    "probs = model.predict(x)[0]\n",
    "print({c: float(p) for c, p in zip(CLASS_NAMES, probs)})\n",
    "print('Predicted label:', CLASS_NAMES[int(np.argmax(probs))])"
   ]
  },
  {
   "cell_type": "code",
   "execution_count": 5,
   "id": "0c20f764",
   "metadata": {},
   "outputs": [
    {
     "name": "stdout",
     "output_type": "stream",
     "text": [
      "1/1 [==============================] - 0s 25ms/step\n",
      "1/1 [==============================] - 0s 16ms/step\n",
      "1/1 [==============================] - 0s 17ms/step\n",
      "1/1 [==============================] - 0s 33ms/step\n",
      "1/1 [==============================] - 0s 21ms/step\n",
      "1/1 [==============================] - 0s 18ms/step\n",
      "1/1 [==============================] - 0s 17ms/step\n",
      "1/1 [==============================] - 0s 15ms/step\n",
      "{'biden-original.wav': {'bonafide_prob': 1.0, 'spoof_prob': 2.282783519653603e-19, 'predicted': 'bonafide'}, 'linus-original.wav': {'bonafide_prob': 1.0, 'spoof_prob': 3.1079656890757113e-15, 'predicted': 'bonafide'}, 'margot-original.wav': {'bonafide_prob': 1.0, 'spoof_prob': 2.1710851781269328e-29, 'predicted': 'bonafide'}, 'musk-original.wav': {'bonafide_prob': 1.0, 'spoof_prob': 1.6805403665277256e-15, 'predicted': 'bonafide'}, 'obama-original.wav': {'bonafide_prob': 1.0, 'spoof_prob': 1.5827626311449034e-29, 'predicted': 'bonafide'}, 'ryan-original.wav': {'bonafide_prob': 1.0, 'spoof_prob': 1.494848879004066e-19, 'predicted': 'bonafide'}, 'taylor-original.wav': {'bonafide_prob': 1.0, 'spoof_prob': 1.36583549693289e-25, 'predicted': 'bonafide'}, 'trump-original.wav': {'bonafide_prob': 1.0, 'spoof_prob': 6.162955607478458e-25, 'predicted': 'bonafide'}}\n"
     ]
    }
   ],
   "source": [
    "from pathlib import Path\n",
    "\n",
    "audio_dir = Path('C:/Users/awsmd/OneDrive/Documents/GitHub/Deepfake-Detection/AUDIO/REAL')\n",
    "results = {}\n",
    "for wav in audio_dir.glob('*.wav'):\n",
    "    x = preprocess_audio(wav)\n",
    "    probs = model.predict(x)[0]\n",
    "    results[wav.name] = {\n",
    "        'bonafide_prob': float(probs[0]),\n",
    "        'spoof_prob': float(probs[1]),\n",
    "        'predicted': CLASS_NAMES[int(np.argmax(probs))]\n",
    "    }\n",
    "print(results)"
   ]
  }
 ],
 "metadata": {
  "kernelspec": {
   "display_name": "tensorflow_env",
   "language": "python",
   "name": "python3"
  },
  "language_info": {
   "codemirror_mode": {
    "name": "ipython",
    "version": 3
   },
   "file_extension": ".py",
   "mimetype": "text/x-python",
   "name": "python",
   "nbconvert_exporter": "python",
   "pygments_lexer": "ipython3",
   "version": "3.10.0"
  }
 },
 "nbformat": 4,
 "nbformat_minor": 5
}
